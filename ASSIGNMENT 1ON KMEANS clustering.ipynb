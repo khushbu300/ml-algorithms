{
 "cells": [
  {
   "cell_type": "code",
   "execution_count": 1,
   "id": "c1c340ea",
   "metadata": {},
   "outputs": [],
   "source": [
    "# Importing the libraries\n",
    "\n",
    "import numpy as np\n",
    "import pandas as pd\n",
    "import matplotlib.pyplot as plt\n",
    "from sklearn.datasets import make_blobs\n",
    "from sklearn.preprocessing import StandardScaler\n",
    "from sklearn.cluster import KMeans\n",
    "from sklearn import metrics\n"
   ]
  },
  {
   "cell_type": "code",
   "execution_count": 2,
   "id": "00c970f9",
   "metadata": {},
   "outputs": [],
   "source": [
    "# Generating dataset using make_blob method\n",
    "\n",
    "dataset = make_blobs(n_samples= 1000,\n",
    "                    centers = 3,\n",
    "                    n_features = 2,\n",
    "                    cluster_std=1.2,\n",
    "                    random_state=60)"
   ]
  },
  {
   "cell_type": "code",
   "execution_count": 3,
   "id": "e629dc55",
   "metadata": {},
   "outputs": [
    {
     "name": "stdout",
     "output_type": "stream",
     "text": [
      "(array([[-4.31198498, -8.06842333],\n",
      "       [ 0.77077737, -1.47721334],\n",
      "       [-3.19169292,  2.59866333],\n",
      "       ...,\n",
      "       [-3.7476408 ,  3.91956805],\n",
      "       [ 3.14931815, -2.72119044],\n",
      "       [-3.29788389,  2.70486312]]), array([0, 2, 1, 0, 2, 2, 2, 1, 0, 2, 0, 1, 2, 0, 2, 2, 2, 2, 1, 0, 1, 0,\n",
      "       0, 0, 0, 2, 1, 0, 2, 1, 0, 2, 1, 2, 0, 1, 1, 1, 0, 2, 2, 2, 2, 0,\n",
      "       1, 2, 0, 0, 2, 1, 1, 2, 2, 2, 0, 0, 0, 1, 2, 1, 0, 0, 1, 0, 2, 1,\n",
      "       0, 0, 1, 0, 1, 2, 1, 0, 1, 0, 0, 0, 1, 1, 1, 0, 1, 1, 2, 1, 2, 1,\n",
      "       1, 1, 1, 2, 2, 1, 1, 1, 0, 1, 0, 2, 2, 0, 2, 0, 0, 0, 1, 2, 2, 1,\n",
      "       1, 0, 1, 0, 1, 0, 0, 0, 0, 0, 0, 2, 1, 2, 1, 2, 2, 0, 0, 2, 1, 0,\n",
      "       2, 2, 1, 2, 2, 2, 2, 2, 2, 2, 1, 1, 0, 1, 0, 2, 1, 2, 0, 1, 2, 2,\n",
      "       2, 2, 0, 2, 1, 2, 1, 2, 1, 2, 2, 0, 2, 2, 0, 1, 1, 2, 2, 0, 0, 2,\n",
      "       2, 0, 0, 2, 0, 0, 0, 2, 1, 1, 2, 2, 0, 2, 2, 2, 1, 1, 2, 1, 1, 0,\n",
      "       0, 2, 2, 2, 2, 0, 2, 2, 1, 0, 2, 1, 1, 1, 1, 0, 0, 2, 1, 0, 2, 2,\n",
      "       0, 0, 0, 2, 2, 2, 2, 1, 2, 1, 0, 0, 0, 1, 2, 0, 1, 1, 2, 0, 1, 0,\n",
      "       2, 1, 1, 2, 1, 2, 1, 2, 2, 2, 1, 0, 0, 2, 1, 2, 0, 1, 2, 0, 2, 2,\n",
      "       1, 0, 0, 1, 1, 1, 2, 0, 1, 0, 0, 2, 0, 1, 2, 2, 2, 0, 0, 2, 2, 2,\n",
      "       1, 1, 1, 0, 0, 0, 0, 2, 2, 0, 0, 1, 2, 1, 1, 0, 1, 1, 0, 2, 1, 1,\n",
      "       2, 0, 1, 2, 1, 2, 0, 1, 1, 0, 0, 1, 0, 2, 0, 2, 1, 2, 0, 0, 0, 0,\n",
      "       1, 2, 1, 2, 1, 2, 1, 0, 0, 1, 0, 1, 1, 0, 0, 1, 1, 1, 2, 0, 2, 1,\n",
      "       2, 1, 0, 1, 1, 1, 2, 0, 0, 2, 0, 1, 2, 2, 1, 2, 2, 1, 1, 2, 1, 1,\n",
      "       0, 0, 2, 0, 1, 1, 1, 2, 2, 0, 1, 1, 0, 0, 0, 0, 1, 2, 0, 1, 0, 1,\n",
      "       1, 0, 2, 2, 2, 1, 2, 2, 0, 1, 1, 1, 1, 0, 0, 0, 0, 0, 1, 2, 0, 0,\n",
      "       0, 1, 0, 0, 2, 0, 1, 1, 1, 2, 1, 1, 2, 2, 1, 1, 2, 1, 0, 2, 2, 2,\n",
      "       1, 0, 0, 0, 2, 1, 2, 2, 0, 1, 0, 1, 1, 2, 1, 1, 1, 2, 0, 0, 0, 0,\n",
      "       1, 0, 1, 1, 2, 2, 2, 0, 2, 0, 0, 0, 1, 2, 0, 2, 2, 2, 0, 2, 0, 1,\n",
      "       1, 2, 2, 1, 2, 1, 1, 1, 0, 2, 2, 0, 1, 1, 2, 2, 1, 1, 0, 1, 2, 1,\n",
      "       0, 2, 0, 1, 1, 0, 0, 2, 0, 2, 1, 1, 0, 2, 1, 1, 1, 0, 2, 0, 1, 2,\n",
      "       2, 1, 1, 1, 0, 1, 0, 2, 1, 2, 1, 0, 0, 2, 0, 1, 1, 0, 1, 1, 1, 2,\n",
      "       0, 0, 0, 2, 2, 2, 0, 2, 0, 1, 2, 2, 0, 2, 1, 0, 2, 0, 1, 1, 0, 0,\n",
      "       2, 1, 1, 0, 2, 1, 2, 1, 1, 2, 1, 1, 0, 1, 2, 1, 1, 2, 2, 0, 1, 0,\n",
      "       0, 1, 2, 1, 0, 1, 1, 2, 1, 1, 0, 0, 2, 2, 2, 0, 2, 1, 0, 2, 0, 2,\n",
      "       1, 1, 0, 1, 2, 1, 2, 1, 1, 0, 1, 1, 0, 0, 2, 2, 0, 2, 2, 2, 1, 2,\n",
      "       1, 0, 0, 2, 2, 1, 0, 2, 2, 0, 0, 0, 1, 1, 1, 1, 2, 0, 0, 2, 1, 0,\n",
      "       2, 1, 2, 2, 0, 1, 1, 0, 0, 2, 0, 2, 0, 0, 2, 2, 1, 0, 0, 2, 2, 0,\n",
      "       2, 2, 2, 2, 0, 0, 2, 2, 2, 2, 2, 1, 2, 0, 0, 1, 2, 0, 1, 1, 2, 0,\n",
      "       0, 2, 0, 0, 2, 1, 0, 2, 2, 2, 0, 1, 1, 1, 2, 1, 2, 1, 2, 0, 0, 2,\n",
      "       2, 1, 0, 0, 0, 2, 1, 2, 0, 0, 1, 1, 2, 2, 0, 2, 2, 1, 1, 0, 2, 1,\n",
      "       1, 1, 2, 2, 1, 1, 0, 0, 1, 0, 1, 0, 2, 2, 0, 0, 0, 2, 0, 1, 2, 0,\n",
      "       1, 0, 0, 0, 2, 0, 1, 1, 1, 0, 0, 2, 2, 0, 0, 0, 2, 2, 1, 1, 2, 1,\n",
      "       0, 1, 0, 1, 0, 1, 2, 2, 0, 0, 0, 0, 2, 0, 1, 1, 1, 1, 1, 0, 0, 2,\n",
      "       0, 0, 1, 2, 0, 2, 2, 0, 0, 0, 0, 2, 0, 0, 2, 0, 0, 2, 1, 0, 0, 0,\n",
      "       2, 1, 0, 2, 1, 1, 2, 0, 0, 0, 2, 0, 1, 1, 2, 2, 2, 2, 0, 0, 2, 0,\n",
      "       1, 2, 0, 1, 1, 2, 1, 1, 2, 1, 1, 2, 2, 2, 1, 2, 0, 2, 2, 0, 2, 2,\n",
      "       0, 2, 0, 1, 0, 1, 0, 1, 0, 2, 1, 1, 0, 0, 2, 2, 1, 0, 0, 2, 1, 0,\n",
      "       0, 0, 0, 0, 1, 1, 2, 1, 1, 0, 1, 2, 1, 0, 2, 0, 1, 1, 2, 2, 1, 2,\n",
      "       1, 1, 1, 1, 2, 0, 0, 0, 2, 1, 1, 1, 0, 2, 0, 0, 1, 2, 1, 0, 2, 1,\n",
      "       2, 1, 2, 1, 1, 1, 1, 2, 0, 1, 0, 1, 0, 2, 1, 1, 0, 1, 2, 0, 0, 0,\n",
      "       1, 2, 0, 1, 0, 0, 0, 2, 1, 0, 0, 0, 2, 1, 0, 1, 2, 0, 1, 2, 1, 1,\n",
      "       2, 2, 2, 0, 1, 2, 2, 1, 2, 1]))\n"
     ]
    }
   ],
   "source": [
    "print(dataset)"
   ]
  },
  {
   "cell_type": "code",
   "execution_count": 4,
   "id": "5995d34f",
   "metadata": {},
   "outputs": [],
   "source": [
    "# Seperating the actual data and actual labels\n",
    "\n",
    "features = dataset[0]"
   ]
  },
  {
   "cell_type": "code",
   "execution_count": 5,
   "id": "52d58ba9",
   "metadata": {},
   "outputs": [
    {
     "data": {
      "text/plain": [
       "array([[-4.31198498, -8.06842333],\n",
       "       [ 0.77077737, -1.47721334],\n",
       "       [-3.19169292,  2.59866333],\n",
       "       ...,\n",
       "       [-3.7476408 ,  3.91956805],\n",
       "       [ 3.14931815, -2.72119044],\n",
       "       [-3.29788389,  2.70486312]])"
      ]
     },
     "execution_count": 5,
     "metadata": {},
     "output_type": "execute_result"
    }
   ],
   "source": [
    "features"
   ]
  },
  {
   "cell_type": "code",
   "execution_count": 6,
   "id": "846658b0",
   "metadata": {},
   "outputs": [
    {
     "data": {
      "text/plain": [
       "array([[-4.31198498, -8.06842333],\n",
       "       [ 0.77077737, -1.47721334],\n",
       "       [-3.19169292,  2.59866333],\n",
       "       [-2.45086372, -6.21408069],\n",
       "       [ 1.27853364, -1.15544132]])"
      ]
     },
     "execution_count": 6,
     "metadata": {},
     "output_type": "execute_result"
    }
   ],
   "source": [
    "features[:5]"
   ]
  },
  {
   "cell_type": "code",
   "execution_count": 7,
   "id": "cfdb8e93",
   "metadata": {},
   "outputs": [
    {
     "data": {
      "text/plain": [
       "(1000, 1000)"
      ]
     },
     "execution_count": 7,
     "metadata": {},
     "output_type": "execute_result"
    }
   ],
   "source": [
    "len(features[:,0]), len(features[:,1])"
   ]
  },
  {
   "cell_type": "code",
   "execution_count": 8,
   "id": "ee5f2891",
   "metadata": {},
   "outputs": [
    {
     "data": {
      "text/plain": [
       "array([-4.31198498,  0.77077737, -3.19169292, -2.45086372,  1.27853364])"
      ]
     },
     "execution_count": 8,
     "metadata": {},
     "output_type": "execute_result"
    }
   ],
   "source": [
    "features[:,0][:5]"
   ]
  },
  {
   "cell_type": "code",
   "execution_count": 9,
   "id": "149731e8",
   "metadata": {},
   "outputs": [
    {
     "data": {
      "text/plain": [
       "array([-8.06842333, -1.47721334,  2.59866333, -6.21408069, -1.15544132])"
      ]
     },
     "execution_count": 9,
     "metadata": {},
     "output_type": "execute_result"
    }
   ],
   "source": [
    "features[:,1][:5]"
   ]
  },
  {
   "cell_type": "code",
   "execution_count": 10,
   "id": "b770f7d4",
   "metadata": {},
   "outputs": [
    {
     "data": {
      "text/plain": [
       "1000"
      ]
     },
     "execution_count": 10,
     "metadata": {},
     "output_type": "execute_result"
    }
   ],
   "source": [
    "len(dataset[1])"
   ]
  },
  {
   "cell_type": "code",
   "execution_count": 11,
   "id": "18eb07c0",
   "metadata": {},
   "outputs": [
    {
     "data": {
      "text/plain": [
       "{0, 1, 2}"
      ]
     },
     "execution_count": 11,
     "metadata": {},
     "output_type": "execute_result"
    }
   ],
   "source": [
    "set(dataset[1])"
   ]
  },
  {
   "cell_type": "code",
   "execution_count": 12,
   "id": "5d12fdbb",
   "metadata": {},
   "outputs": [],
   "source": [
    "# Standardizing the data\n",
    "\n",
    "X = StandardScaler().fit_transform(features)"
   ]
  },
  {
   "cell_type": "code",
   "execution_count": 13,
   "id": "573dfd23",
   "metadata": {},
   "outputs": [
    {
     "data": {
      "text/plain": [
       "array([[-0.82144177, -1.5382243 ],\n",
       "       [ 1.073035  ,  0.04883035],\n",
       "       [-0.40387999,  1.03023422],\n",
       "       ...,\n",
       "       [-0.61109612,  1.34828629],\n",
       "       [ 1.95957857, -0.25069882],\n",
       "       [-0.44346011,  1.05580538]])"
      ]
     },
     "execution_count": 13,
     "metadata": {},
     "output_type": "execute_result"
    }
   ],
   "source": [
    "# Checking the features after standardization \n",
    "\n",
    "X"
   ]
  },
  {
   "cell_type": "code",
   "execution_count": 14,
   "id": "ba1e8eee",
   "metadata": {},
   "outputs": [
    {
     "data": {
      "image/png": "[encoded data removed]",
      "text/plain": [
       "<Figure size 432x288 with 1 Axes>"
      ]
     },
     "metadata": {
      "needs_background": "light"
     },
     "output_type": "display_data"
    }
   ],
   "source": [
    "# Scatter plot based on standardized data\n",
    "\n",
    "plt.scatter(X[:,0], X[:,1], color = \"blue\")\n",
    "plt.show()"
   ]
  },
  {
   "cell_type": "code",
   "execution_count": 15,
   "id": "e98f6fc6",
   "metadata": {},
   "outputs": [],
   "source": [
    "# Applying KMeans algorithm\n",
    "\n",
    "kmeans = KMeans(init = \"k-means++\", n_clusters = 3, n_init = 100)"
   ]
  },
  {
   "cell_type": "code",
   "execution_count": 16,
   "id": "e671731d",
   "metadata": {},
   "outputs": [
    {
     "data": {
      "text/plain": [
       "KMeans(n_clusters=3, n_init=100)"
      ]
     },
     "execution_count": 16,
     "metadata": {},
     "output_type": "execute_result"
    }
   ],
   "source": [
    "kmeans.fit(X)"
   ]
  },
  {
   "cell_type": "code",
   "execution_count": 17,
   "id": "6f9186ad",
   "metadata": {},
   "outputs": [],
   "source": [
    "# Centeroids of the three clusters\n",
    "\n",
    "clust_cente = kmeans.cluster_centers_"
   ]
  },
  {
   "cell_type": "code",
   "execution_count": 18,
   "id": "1d26b656",
   "metadata": {},
   "outputs": [
    {
     "name": "stdout",
     "output_type": "stream",
     "text": [
      "[[ 1.26459569 -0.11760535]\n",
      " [-0.68994769 -1.10575025]\n",
      " [-0.57257608  1.22667617]]\n"
     ]
    }
   ],
   "source": [
    "print(clust_cente)"
   ]
  },
  {
   "cell_type": "code",
   "execution_count": 19,
   "id": "a29c6614",
   "metadata": {},
   "outputs": [
    {
     "data": {
      "text/plain": [
       "1.264595685445932"
      ]
     },
     "execution_count": 19,
     "metadata": {},
     "output_type": "execute_result"
    }
   ],
   "source": [
    "clust_cente[0][0]"
   ]
  },
  {
   "cell_type": "code",
   "execution_count": 20,
   "id": "2e845862",
   "metadata": {},
   "outputs": [],
   "source": [
    "# Predicting the labels for each row\n",
    "\n",
    "pred_labels = kmeans.fit_predict(X)"
   ]
  },
  {
   "cell_type": "code",
   "execution_count": 21,
   "id": "0fb52ca0",
   "metadata": {},
   "outputs": [
    {
     "data": {
      "text/plain": [
       "array([0, 2, 1, 0, 2])"
      ]
     },
     "execution_count": 21,
     "metadata": {},
     "output_type": "execute_result"
    }
   ],
   "source": [
    "pred_labels[:5]"
   ]
  },
  {
   "cell_type": "code",
   "execution_count": 22,
   "id": "a75379a7",
   "metadata": {},
   "outputs": [],
   "source": [
    "labels = kmeans.labels_"
   ]
  },
  {
   "cell_type": "code",
   "execution_count": 23,
   "id": "0610a827",
   "metadata": {},
   "outputs": [
    {
     "data": {
      "text/plain": [
       "array([0, 2, 1, 0, 2])"
      ]
     },
     "execution_count": 23,
     "metadata": {},
     "output_type": "execute_result"
    }
   ],
   "source": [
    "labels[:5]"
   ]
  },
  {
   "cell_type": "code",
   "execution_count": 24,
   "id": "5331097e",
   "metadata": {},
   "outputs": [
    {
     "data": {
      "text/plain": [
       "array([0, 2, 1, 0, 2])"
      ]
     },
     "execution_count": 24,
     "metadata": {},
     "output_type": "execute_result"
    }
   ],
   "source": [
    "dataset[1][:5]"
   ]
  },
  {
   "cell_type": "code",
   "execution_count": 25,
   "id": "db8c846c",
   "metadata": {},
   "outputs": [
    {
     "data": {
      "image/png": "[encoded data removed]",
      "text/plain": [
       "<Figure size 432x288 with 1 Axes>"
      ]
     },
     "metadata": {
      "needs_background": "light"
     },
     "output_type": "display_data"
    }
   ],
   "source": [
    "# Plotting the clusters \n",
    "\n",
    "plt.scatter(features[pred_labels == 0,0], features[pred_labels == 0,1], s=50, color =\"red\")\n",
    "plt.scatter(features[pred_labels == 1,0], features[pred_labels == 1,1], s=50, color =\"yellow\")\n",
    "plt.scatter(features[pred_labels == 2,0], features[pred_labels == 2,1], s=50, color =\"blue\")\n",
    "plt.xlabel('X axis')\n",
    "plt.ylabel('Y axis')\n",
    "plt.title(\"KMeans Clustering\")\n",
    "\n",
    "plt.show()"
   ]
  },
  {
   "cell_type": "code",
   "execution_count": 26,
   "id": "5f01d29c",
   "metadata": {},
   "outputs": [
    {
     "name": "stdout",
     "output_type": "stream",
     "text": [
      "Homogeneity: 0.9876059147486765\n"
     ]
    }
   ],
   "source": [
    "print(f\"Homogeneity: {metrics.homogeneity_score(dataset[1],pred_labels)}\")\n"
   ]
  },
  {
   "cell_type": "code",
   "execution_count": 30,
   "id": "ab3e6d28",
   "metadata": {},
   "outputs": [],
   "source": [
    "Data = pd.DataFrame({'X-axis':features[:,0],'y-axis':features[:,1],'True_labels':dataset[1],'KMeans_labels':pred_labels})"
   ]
  },
  {
   "cell_type": "code",
   "execution_count": 31,
   "id": "ccc432a4",
   "metadata": {},
   "outputs": [
    {
     "data": {
      "text/html": [
       "<div>\n",
       "<style scoped>\n",
       "    .dataframe tbody tr th:only-of-type {\n",
       "        vertical-align: middle;\n",
       "    }\n",
       "\n",
       "    .dataframe tbody tr th {\n",
       "        vertical-align: top;\n",
       "    }\n",
       "\n",
       "    .dataframe thead th {\n",
       "        text-align: right;\n",
       "    }\n",
       "</style>\n",
       "<table border=\"1\" class=\"dataframe\">\n",
       "  <thead>\n",
       "    <tr style=\"text-align: right;\">\n",
       "      <th></th>\n",
       "      <th>X-axis</th>\n",
       "      <th>y-axis</th>\n",
       "      <th>True_labels</th>\n",
       "      <th>KMeans_labels</th>\n",
       "    </tr>\n",
       "  </thead>\n",
       "  <tbody>\n",
       "    <tr>\n",
       "      <th>0</th>\n",
       "      <td>-4.311985</td>\n",
       "      <td>-8.068423</td>\n",
       "      <td>0</td>\n",
       "      <td>0</td>\n",
       "    </tr>\n",
       "    <tr>\n",
       "      <th>1</th>\n",
       "      <td>0.770777</td>\n",
       "      <td>-1.477213</td>\n",
       "      <td>2</td>\n",
       "      <td>2</td>\n",
       "    </tr>\n",
       "    <tr>\n",
       "      <th>2</th>\n",
       "      <td>-3.191693</td>\n",
       "      <td>2.598663</td>\n",
       "      <td>1</td>\n",
       "      <td>1</td>\n",
       "    </tr>\n",
       "    <tr>\n",
       "      <th>3</th>\n",
       "      <td>-2.450864</td>\n",
       "      <td>-6.214081</td>\n",
       "      <td>0</td>\n",
       "      <td>0</td>\n",
       "    </tr>\n",
       "    <tr>\n",
       "      <th>4</th>\n",
       "      <td>1.278534</td>\n",
       "      <td>-1.155441</td>\n",
       "      <td>2</td>\n",
       "      <td>2</td>\n",
       "    </tr>\n",
       "    <tr>\n",
       "      <th>...</th>\n",
       "      <td>...</td>\n",
       "      <td>...</td>\n",
       "      <td>...</td>\n",
       "      <td>...</td>\n",
       "    </tr>\n",
       "    <tr>\n",
       "      <th>995</th>\n",
       "      <td>1.763411</td>\n",
       "      <td>-2.008428</td>\n",
       "      <td>2</td>\n",
       "      <td>2</td>\n",
       "    </tr>\n",
       "    <tr>\n",
       "      <th>996</th>\n",
       "      <td>0.307415</td>\n",
       "      <td>-4.493160</td>\n",
       "      <td>2</td>\n",
       "      <td>2</td>\n",
       "    </tr>\n",
       "    <tr>\n",
       "      <th>997</th>\n",
       "      <td>-3.747641</td>\n",
       "      <td>3.919568</td>\n",
       "      <td>1</td>\n",
       "      <td>1</td>\n",
       "    </tr>\n",
       "    <tr>\n",
       "      <th>998</th>\n",
       "      <td>3.149318</td>\n",
       "      <td>-2.721190</td>\n",
       "      <td>2</td>\n",
       "      <td>2</td>\n",
       "    </tr>\n",
       "    <tr>\n",
       "      <th>999</th>\n",
       "      <td>-3.297884</td>\n",
       "      <td>2.704863</td>\n",
       "      <td>1</td>\n",
       "      <td>1</td>\n",
       "    </tr>\n",
       "  </tbody>\n",
       "</table>\n",
       "<p>1000 rows × 4 columns</p>\n",
       "</div>"
      ],
      "text/plain": [
       "       X-axis    y-axis  True_labels  KMeans_labels\n",
       "0   -4.311985 -8.068423            0              0\n",
       "1    0.770777 -1.477213            2              2\n",
       "2   -3.191693  2.598663            1              1\n",
       "3   -2.450864 -6.214081            0              0\n",
       "4    1.278534 -1.155441            2              2\n",
       "..        ...       ...          ...            ...\n",
       "995  1.763411 -2.008428            2              2\n",
       "996  0.307415 -4.493160            2              2\n",
       "997 -3.747641  3.919568            1              1\n",
       "998  3.149318 -2.721190            2              2\n",
       "999 -3.297884  2.704863            1              1\n",
       "\n",
       "[1000 rows x 4 columns]"
      ]
     },
     "execution_count": 31,
     "metadata": {},
     "output_type": "execute_result"
    }
   ],
   "source": [
    "Data"
   ]
  },
  {
   "cell_type": "code",
   "execution_count": null,
   "id": "43f1a9b3",
   "metadata": {},
   "outputs": [],
   "source": []
  },
  {
   "cell_type": "code",
   "execution_count": null,
   "id": "1604d7a2",
   "metadata": {},
   "outputs": [],
   "source": []
  }
 ],
 "metadata": {
  "kernelspec": {
   "display_name": "Python 3 (ipykernel)",
   "language": "python",
   "name": "python3"
  },
  "language_info": {
   "codemirror_mode": {
    "name": "ipython",
    "version": 3
   },
   "file_extension": ".py",
   "mimetype": "text/x-python",
   "name": "python",
   "nbconvert_exporter": "python",
   "pygments_lexer": "ipython3",
   "version": "3.9.13"
  }
 },
 "nbformat": 4,
 "nbformat_minor": 5
}
